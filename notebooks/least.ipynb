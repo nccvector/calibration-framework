{
 "cells": [
  {
   "cell_type": "code",
   "execution_count": 175,
   "id": "initial_id",
   "metadata": {
    "collapsed": true,
    "ExecuteTime": {
     "end_time": "2023-12-03T06:23:49.888755593Z",
     "start_time": "2023-12-03T06:23:49.876352650Z"
    }
   },
   "outputs": [],
   "source": [
    "import numpy as np\n",
    "import sympy as sm\n",
    "import scipy.spatial.transform as transform\n",
    "np.set_printoptions(suppress=True)\n",
    "sm.init_printing()"
   ]
  },
  {
   "cell_type": "code",
   "execution_count": 78,
   "outputs": [
    {
     "data": {
      "text/plain": "'ALL SYMBOLS:'"
     },
     "metadata": {},
     "output_type": "display_data"
    },
    {
     "data": {
      "text/plain": "[a₀, a₁, a₂, a₃, a₄, a₅, a₆, a₇, a₈, a₉, a₁₀, a₁₁]",
      "image/png": "[encoded data removed]",
      "text/latex": "$\\displaystyle \\left[ a_{0}, \\  a_{1}, \\  a_{2}, \\  a_{3}, \\  a_{4}, \\  a_{5}, \\  a_{6}, \\  a_{7}, \\  a_{8}, \\  a_{9}, \\  a_{10}, \\  a_{11}\\right]$"
     },
     "metadata": {},
     "output_type": "display_data"
    },
    {
     "data": {
      "text/plain": "[x₀, x₁, x₂, x₃, x₄, x₅, x₆, x₇, x₈, x₉, x₁₀, x₁₁]",
      "image/png": "[encoded data removed]",
      "text/latex": "$\\displaystyle \\left[ x_{0}, \\  x_{1}, \\  x_{2}, \\  x_{3}, \\  x_{4}, \\  x_{5}, \\  x_{6}, \\  x_{7}, \\  x_{8}, \\  x_{9}, \\  x_{10}, \\  x_{11}\\right]$"
     },
     "metadata": {},
     "output_type": "display_data"
    },
    {
     "data": {
      "text/plain": "[z₀, z₁, z₂, z₃, z₄, z₅, z₆, z₇, z₈, z₉, z₁₀, z₁₁]",
      "image/png": "[encoded data removed]",
      "text/latex": "$\\displaystyle \\left[ z_{0}, \\  z_{1}, \\  z_{2}, \\  z_{3}, \\  z_{4}, \\  z_{5}, \\  z_{6}, \\  z_{7}, \\  z_{8}, \\  z_{9}, \\  z_{10}, \\  z_{11}\\right]$"
     },
     "metadata": {},
     "output_type": "display_data"
    },
    {
     "data": {
      "text/plain": "[b₀, b₁, b₂, b₃, b₄, b₅, b₆, b₇, b₈, b₉, b₁₀, b₁₁]",
      "image/png": "[encoded data removed]",
      "text/latex": "$\\displaystyle \\left[ b_{0}, \\  b_{1}, \\  b_{2}, \\  b_{3}, \\  b_{4}, \\  b_{5}, \\  b_{6}, \\  b_{7}, \\  b_{8}, \\  b_{9}, \\  b_{10}, \\  b_{11}\\right]$"
     },
     "metadata": {},
     "output_type": "display_data"
    },
    {
     "data": {
      "text/plain": "'MATRICES:'"
     },
     "metadata": {},
     "output_type": "display_data"
    },
    {
     "data": {
      "text/plain": "'A:'"
     },
     "metadata": {},
     "output_type": "display_data"
    },
    {
     "data": {
      "text/plain": "⎡a₀  a₁  a₂   a₃ ⎤\n⎢                ⎥\n⎢a₄  a₅  a₆   a₇ ⎥\n⎢                ⎥\n⎢a₈  a₉  a₁₀  a₁₁⎥\n⎢                ⎥\n⎣0   0    0    1 ⎦",
      "text/latex": "$\\displaystyle \\left[\\begin{matrix}a_{0} & a_{1} & a_{2} & a_{3}\\\\a_{4} & a_{5} & a_{6} & a_{7}\\\\a_{8} & a_{9} & a_{10} & a_{11}\\\\0 & 0 & 0 & 1\\end{matrix}\\right]$"
     },
     "metadata": {},
     "output_type": "display_data"
    },
    {
     "data": {
      "text/plain": "'X:'"
     },
     "metadata": {},
     "output_type": "display_data"
    },
    {
     "data": {
      "text/plain": "⎡x₀  x₁  x₂   x₃ ⎤\n⎢                ⎥\n⎢x₄  x₅  x₆   x₇ ⎥\n⎢                ⎥\n⎢x₈  x₉  x₁₀  x₁₁⎥\n⎢                ⎥\n⎣0   0    0    1 ⎦",
      "text/latex": "$\\displaystyle \\left[\\begin{matrix}x_{0} & x_{1} & x_{2} & x_{3}\\\\x_{4} & x_{5} & x_{6} & x_{7}\\\\x_{8} & x_{9} & x_{10} & x_{11}\\\\0 & 0 & 0 & 1\\end{matrix}\\right]$"
     },
     "metadata": {},
     "output_type": "display_data"
    },
    {
     "data": {
      "text/plain": "'Z:'"
     },
     "metadata": {},
     "output_type": "display_data"
    },
    {
     "data": {
      "text/plain": "⎡z₀  z₁  z₂   z₃ ⎤\n⎢                ⎥\n⎢z₄  z₅  z₆   z₇ ⎥\n⎢                ⎥\n⎢z₈  z₉  z₁₀  z₁₁⎥\n⎢                ⎥\n⎣0   0    0    1 ⎦",
      "text/latex": "$\\displaystyle \\left[\\begin{matrix}z_{0} & z_{1} & z_{2} & z_{3}\\\\z_{4} & z_{5} & z_{6} & z_{7}\\\\z_{8} & z_{9} & z_{10} & z_{11}\\\\0 & 0 & 0 & 1\\end{matrix}\\right]$"
     },
     "metadata": {},
     "output_type": "display_data"
    },
    {
     "data": {
      "text/plain": "'B:'"
     },
     "metadata": {},
     "output_type": "display_data"
    },
    {
     "data": {
      "text/plain": "⎡b₀  b₁  b₂   b₃ ⎤\n⎢                ⎥\n⎢b₄  b₅  b₆   b₇ ⎥\n⎢                ⎥\n⎢b₈  b₉  b₁₀  b₁₁⎥\n⎢                ⎥\n⎣0   0    0    1 ⎦",
      "text/latex": "$\\displaystyle \\left[\\begin{matrix}b_{0} & b_{1} & b_{2} & b_{3}\\\\b_{4} & b_{5} & b_{6} & b_{7}\\\\b_{8} & b_{9} & b_{10} & b_{11}\\\\0 & 0 & 0 & 1\\end{matrix}\\right]$"
     },
     "metadata": {},
     "output_type": "display_data"
    },
    {
     "data": {
      "text/plain": "'EQUATION:'"
     },
     "metadata": {},
     "output_type": "display_data"
    },
    {
     "data": {
      "text/plain": "⎡ a₀⋅x₀ + a₁⋅x₄ + a₂⋅x₈ - b₀⋅z₀ - b₄⋅z₁ - b₈⋅z₂    a₀⋅x₁ + a₁⋅x₅ + a₂⋅x₉ - b₁⋅\n⎢                                                                             \n⎢ a₄⋅x₀ + a₅⋅x₄ + a₆⋅x₈ - b₀⋅z₄ - b₄⋅z₅ - b₈⋅z₆    a₄⋅x₁ + a₅⋅x₅ + a₆⋅x₉ - b₁⋅\n⎢                                                                             \n⎢a₁₀⋅x₈ + a₈⋅x₀ + a₉⋅x₄ - b₀⋅z₈ - b₄⋅z₉ - b₈⋅z₁₀  a₁₀⋅x₉ + a₈⋅x₁ + a₉⋅x₅ - b₁⋅\n⎢                                                                             \n⎣                       0                                                0    \n\nz₀ - b₅⋅z₁ - b₉⋅z₂    a₀⋅x₂ + a₁⋅x₆ + a₂⋅x₁₀ - b₁₀⋅z₂ - b₂⋅z₀ - b₆⋅z₁     a₀⋅x\n                                                                              \nz₄ - b₅⋅z₅ - b₉⋅z₆    a₄⋅x₂ + a₅⋅x₆ + a₆⋅x₁₀ - b₁₀⋅z₆ - b₂⋅z₄ - b₆⋅z₅     a₄⋅x\n                                                                              \nz₈ - b₅⋅z₉ - b₉⋅z₁₀  a₁₀⋅x₁₀ + a₈⋅x₂ + a₉⋅x₆ - b₁₀⋅z₁₀ - b₂⋅z₈ - b₆⋅z₉  a₁₀⋅x₁\n                                                                              \n                                             0                                \n\n₃ + a₁⋅x₇ + a₂⋅x₁₁ + a₃ - b₁₁⋅z₂ - b₃⋅z₀ - b₇⋅z₁ - z₃  ⎤\n                                                       ⎥\n₃ + a₅⋅x₇ + a₆⋅x₁₁ + a₇ - b₁₁⋅z₆ - b₃⋅z₄ - b₇⋅z₅ - z₇  ⎥\n                                                       ⎥\n₁ + a₁₁ + a₈⋅x₃ + a₉⋅x₇ - b₁₁⋅z₁₀ - b₃⋅z₈ - b₇⋅z₉ - z₁₁⎥\n                                                       ⎥\n                        0                              ⎦",
      "text/latex": "$\\displaystyle \\left[\\begin{matrix}a_{0} x_{0} + a_{1} x_{4} + a_{2} x_{8} - b_{0} z_{0} - b_{4} z_{1} - b_{8} z_{2} & a_{0} x_{1} + a_{1} x_{5} + a_{2} x_{9} - b_{1} z_{0} - b_{5} z_{1} - b_{9} z_{2} & a_{0} x_{2} + a_{1} x_{6} + a_{2} x_{10} - b_{10} z_{2} - b_{2} z_{0} - b_{6} z_{1} & a_{0} x_{3} + a_{1} x_{7} + a_{2} x_{11} + a_{3} - b_{11} z_{2} - b_{3} z_{0} - b_{7} z_{1} - z_{3}\\\\a_{4} x_{0} + a_{5} x_{4} + a_{6} x_{8} - b_{0} z_{4} - b_{4} z_{5} - b_{8} z_{6} & a_{4} x_{1} + a_{5} x_{5} + a_{6} x_{9} - b_{1} z_{4} - b_{5} z_{5} - b_{9} z_{6} & a_{4} x_{2} + a_{5} x_{6} + a_{6} x_{10} - b_{10} z_{6} - b_{2} z_{4} - b_{6} z_{5} & a_{4} x_{3} + a_{5} x_{7} + a_{6} x_{11} + a_{7} - b_{11} z_{6} - b_{3} z_{4} - b_{7} z_{5} - z_{7}\\\\a_{10} x_{8} + a_{8} x_{0} + a_{9} x_{4} - b_{0} z_{8} - b_{4} z_{9} - b_{8} z_{10} & a_{10} x_{9} + a_{8} x_{1} + a_{9} x_{5} - b_{1} z_{8} - b_{5} z_{9} - b_{9} z_{10} & a_{10} x_{10} + a_{8} x_{2} + a_{9} x_{6} - b_{10} z_{10} - b_{2} z_{8} - b_{6} z_{9} & a_{10} x_{11} + a_{11} + a_{8} x_{3} + a_{9} x_{7} - b_{11} z_{10} - b_{3} z_{8} - b_{7} z_{9} - z_{11}\\\\0 & 0 & 0 & 0\\end{matrix}\\right]$"
     },
     "metadata": {},
     "output_type": "display_data"
    }
   ],
   "source": [
    "# symbols\n",
    "# AX = ZB\n",
    "symTemplates = ['a', 'x', 'z', 'b']\n",
    "allSymbols = []\n",
    "\n",
    "# Creating 12 symbols for each matrix\n",
    "for template in symTemplates:\n",
    "    allSymbols.append([sm.Symbol(template + str(i)) for i in range(3 * 4)])\n",
    "\n",
    "display('ALL SYMBOLS:')\n",
    "for symbols in allSymbols:\n",
    "    display(symbols)\n",
    "\n",
    "# Creating matrices from symbols\n",
    "A = sm.Matrix([allSymbols[0][:4], allSymbols[0][4:8], allSymbols[0][8:12], [0, 0, 0, 1]])\n",
    "X = sm.Matrix([allSymbols[1][:4], allSymbols[1][4:8], allSymbols[1][8:12], [0, 0, 0, 1]])\n",
    "Z = sm.Matrix([allSymbols[2][:4], allSymbols[2][4:8], allSymbols[2][8:12], [0, 0, 0, 1]])\n",
    "B = sm.Matrix([allSymbols[3][:4], allSymbols[3][4:8], allSymbols[3][8:12], [0, 0, 0, 1]])\n",
    "\n",
    "display('MATRICES:', 'A:', A, 'X:', X, 'Z:', Z, 'B:', B)\n",
    "\n",
    "equation = A * X - Z * B\n",
    "display('EQUATION:', equation)\n"
   ],
   "metadata": {
    "collapsed": false,
    "ExecuteTime": {
     "end_time": "2023-12-03T02:41:06.367757975Z",
     "start_time": "2023-12-03T02:41:05.978827933Z"
    }
   },
   "id": "974fc2ec799616c"
  },
  {
   "cell_type": "code",
   "execution_count": 79,
   "outputs": [
    {
     "data": {
      "text/plain": "'Linear Equation:'"
     },
     "metadata": {},
     "output_type": "display_data"
    },
    {
     "data": {
      "text/plain": "'A:'"
     },
     "metadata": {},
     "output_type": "display_data"
    },
    {
     "data": {
      "text/plain": "⎡a₀  0   0   0   a₁  0   0   0   a₂    0    0    0   -b₀  -b₄  -b₈   0    0   \n⎢                                                                             \n⎢0   a₀  0   0   0   a₁  0   0    0   a₂    0    0   -b₁  -b₅  -b₉   0    0   \n⎢                                                                             \n⎢0   0   a₀  0   0   0   a₁  0    0    0   a₂    0   -b₂  -b₆  -b₁₀  0    0   \n⎢                                                                             \n⎢0   0   0   a₀  0   0   0   a₁   0    0    0   a₂   -b₃  -b₇  -b₁₁  -1   0   \n⎢                                                                             \n⎢a₄  0   0   0   a₅  0   0   0   a₆    0    0    0    0    0    0    0   -b₀  \n⎢                                                                             \n⎢0   a₄  0   0   0   a₅  0   0    0   a₆    0    0    0    0    0    0   -b₁  \n⎢                                                                             \n⎢0   0   a₄  0   0   0   a₅  0    0    0   a₆    0    0    0    0    0   -b₂  \n⎢                                                                             \n⎢0   0   0   a₄  0   0   0   a₅   0    0    0   a₆    0    0    0    0   -b₃  \n⎢                                                                             \n⎢a₈  0   0   0   a₉  0   0   0   a₁₀   0    0    0    0    0    0    0    0   \n⎢                                                                             \n⎢0   a₈  0   0   0   a₉  0   0    0   a₁₀   0    0    0    0    0    0    0   \n⎢                                                                             \n⎢0   0   a₈  0   0   0   a₉  0    0    0   a₁₀   0    0    0    0    0    0   \n⎢                                                                             \n⎢0   0   0   a₈  0   0   0   a₉   0    0    0   a₁₀   0    0    0    0    0   \n⎢                                                                             \n⎢0   0   0   0   0   0   0   0    0    0    0    0    0    0    0    0    0   \n⎢                                                                             \n⎢0   0   0   0   0   0   0   0    0    0    0    0    0    0    0    0    0   \n⎢                                                                             \n⎢0   0   0   0   0   0   0   0    0    0    0    0    0    0    0    0    0   \n⎢                                                                             \n⎣0   0   0   0   0   0   0   0    0    0    0    0    0    0    0    0    0   \n\n 0    0    0    0    0    0    0 ⎤\n                                 ⎥\n 0    0    0    0    0    0    0 ⎥\n                                 ⎥\n 0    0    0    0    0    0    0 ⎥\n                                 ⎥\n 0    0    0    0    0    0    0 ⎥\n                                 ⎥\n-b₄  -b₈   0    0    0    0    0 ⎥\n                                 ⎥\n-b₅  -b₉   0    0    0    0    0 ⎥\n                                 ⎥\n-b₆  -b₁₀  0    0    0    0    0 ⎥\n                                 ⎥\n-b₇  -b₁₁  -1   0    0    0    0 ⎥\n                                 ⎥\n 0    0    0   -b₀  -b₄  -b₈   0 ⎥\n                                 ⎥\n 0    0    0   -b₁  -b₅  -b₉   0 ⎥\n                                 ⎥\n 0    0    0   -b₂  -b₆  -b₁₀  0 ⎥\n                                 ⎥\n 0    0    0   -b₃  -b₇  -b₁₁  -1⎥\n                                 ⎥\n 0    0    0    0    0    0    0 ⎥\n                                 ⎥\n 0    0    0    0    0    0    0 ⎥\n                                 ⎥\n 0    0    0    0    0    0    0 ⎥\n                                 ⎥\n 0    0    0    0    0    0    0 ⎦",
      "text/latex": "$\\displaystyle \\left[\\begin{array}{cccccccccccccccccccccccc}a_{0} & 0 & 0 & 0 & a_{1} & 0 & 0 & 0 & a_{2} & 0 & 0 & 0 & - b_{0} & - b_{4} & - b_{8} & 0 & 0 & 0 & 0 & 0 & 0 & 0 & 0 & 0\\\\0 & a_{0} & 0 & 0 & 0 & a_{1} & 0 & 0 & 0 & a_{2} & 0 & 0 & - b_{1} & - b_{5} & - b_{9} & 0 & 0 & 0 & 0 & 0 & 0 & 0 & 0 & 0\\\\0 & 0 & a_{0} & 0 & 0 & 0 & a_{1} & 0 & 0 & 0 & a_{2} & 0 & - b_{2} & - b_{6} & - b_{10} & 0 & 0 & 0 & 0 & 0 & 0 & 0 & 0 & 0\\\\0 & 0 & 0 & a_{0} & 0 & 0 & 0 & a_{1} & 0 & 0 & 0 & a_{2} & - b_{3} & - b_{7} & - b_{11} & -1 & 0 & 0 & 0 & 0 & 0 & 0 & 0 & 0\\\\a_{4} & 0 & 0 & 0 & a_{5} & 0 & 0 & 0 & a_{6} & 0 & 0 & 0 & 0 & 0 & 0 & 0 & - b_{0} & - b_{4} & - b_{8} & 0 & 0 & 0 & 0 & 0\\\\0 & a_{4} & 0 & 0 & 0 & a_{5} & 0 & 0 & 0 & a_{6} & 0 & 0 & 0 & 0 & 0 & 0 & - b_{1} & - b_{5} & - b_{9} & 0 & 0 & 0 & 0 & 0\\\\0 & 0 & a_{4} & 0 & 0 & 0 & a_{5} & 0 & 0 & 0 & a_{6} & 0 & 0 & 0 & 0 & 0 & - b_{2} & - b_{6} & - b_{10} & 0 & 0 & 0 & 0 & 0\\\\0 & 0 & 0 & a_{4} & 0 & 0 & 0 & a_{5} & 0 & 0 & 0 & a_{6} & 0 & 0 & 0 & 0 & - b_{3} & - b_{7} & - b_{11} & -1 & 0 & 0 & 0 & 0\\\\a_{8} & 0 & 0 & 0 & a_{9} & 0 & 0 & 0 & a_{10} & 0 & 0 & 0 & 0 & 0 & 0 & 0 & 0 & 0 & 0 & 0 & - b_{0} & - b_{4} & - b_{8} & 0\\\\0 & a_{8} & 0 & 0 & 0 & a_{9} & 0 & 0 & 0 & a_{10} & 0 & 0 & 0 & 0 & 0 & 0 & 0 & 0 & 0 & 0 & - b_{1} & - b_{5} & - b_{9} & 0\\\\0 & 0 & a_{8} & 0 & 0 & 0 & a_{9} & 0 & 0 & 0 & a_{10} & 0 & 0 & 0 & 0 & 0 & 0 & 0 & 0 & 0 & - b_{2} & - b_{6} & - b_{10} & 0\\\\0 & 0 & 0 & a_{8} & 0 & 0 & 0 & a_{9} & 0 & 0 & 0 & a_{10} & 0 & 0 & 0 & 0 & 0 & 0 & 0 & 0 & - b_{3} & - b_{7} & - b_{11} & -1\\\\0 & 0 & 0 & 0 & 0 & 0 & 0 & 0 & 0 & 0 & 0 & 0 & 0 & 0 & 0 & 0 & 0 & 0 & 0 & 0 & 0 & 0 & 0 & 0\\\\0 & 0 & 0 & 0 & 0 & 0 & 0 & 0 & 0 & 0 & 0 & 0 & 0 & 0 & 0 & 0 & 0 & 0 & 0 & 0 & 0 & 0 & 0 & 0\\\\0 & 0 & 0 & 0 & 0 & 0 & 0 & 0 & 0 & 0 & 0 & 0 & 0 & 0 & 0 & 0 & 0 & 0 & 0 & 0 & 0 & 0 & 0 & 0\\\\0 & 0 & 0 & 0 & 0 & 0 & 0 & 0 & 0 & 0 & 0 & 0 & 0 & 0 & 0 & 0 & 0 & 0 & 0 & 0 & 0 & 0 & 0 & 0\\end{array}\\right]$"
     },
     "metadata": {},
     "output_type": "display_data"
    },
    {
     "data": {
      "text/plain": "'b:'"
     },
     "metadata": {},
     "output_type": "display_data"
    },
    {
     "data": {
      "text/plain": "⎡ 0  ⎤\n⎢    ⎥\n⎢ 0  ⎥\n⎢    ⎥\n⎢ 0  ⎥\n⎢    ⎥\n⎢-a₃ ⎥\n⎢    ⎥\n⎢ 0  ⎥\n⎢    ⎥\n⎢ 0  ⎥\n⎢    ⎥\n⎢ 0  ⎥\n⎢    ⎥\n⎢-a₇ ⎥\n⎢    ⎥\n⎢ 0  ⎥\n⎢    ⎥\n⎢ 0  ⎥\n⎢    ⎥\n⎢ 0  ⎥\n⎢    ⎥\n⎢-a₁₁⎥\n⎢    ⎥\n⎢ 0  ⎥\n⎢    ⎥\n⎢ 0  ⎥\n⎢    ⎥\n⎢ 0  ⎥\n⎢    ⎥\n⎣ 0  ⎦",
      "text/latex": "$\\displaystyle \\left[\\begin{matrix}0\\\\0\\\\0\\\\- a_{3}\\\\0\\\\0\\\\0\\\\- a_{7}\\\\0\\\\0\\\\0\\\\- a_{11}\\\\0\\\\0\\\\0\\\\0\\end{matrix}\\right]$"
     },
     "metadata": {},
     "output_type": "display_data"
    }
   ],
   "source": [
    "# Creating linear matrix equations\n",
    "lA, lb = sm.linear_eq_to_matrix(equation, [x for x in allSymbols[1]] + [z for z in allSymbols[2]])\n",
    "\n",
    "display('Linear Equation:', 'A:', lA, 'b:', lb)"
   ],
   "metadata": {
    "collapsed": false,
    "ExecuteTime": {
     "end_time": "2023-12-03T02:41:10.876337226Z",
     "start_time": "2023-12-03T02:41:10.797067880Z"
    }
   },
   "id": "590a575e4fc7f5bc"
  },
  {
   "cell_type": "code",
   "execution_count": 119,
   "outputs": [
    {
     "data": {
      "text/plain": "'Minimal Linear Equation: '"
     },
     "metadata": {},
     "output_type": "display_data"
    },
    {
     "data": {
      "text/plain": "'A:'"
     },
     "metadata": {},
     "output_type": "display_data"
    },
    {
     "data": {
      "text/plain": "⎡a₀  0   0   0   a₁  0   0   0   a₂    0    0    0   -b₀  -b₄  -b₈   0    0   \n⎢                                                                             \n⎢0   a₀  0   0   0   a₁  0   0    0   a₂    0    0   -b₁  -b₅  -b₉   0    0   \n⎢                                                                             \n⎢0   0   a₀  0   0   0   a₁  0    0    0   a₂    0   -b₂  -b₆  -b₁₀  0    0   \n⎢                                                                             \n⎢0   0   0   a₀  0   0   0   a₁   0    0    0   a₂   -b₃  -b₇  -b₁₁  -1   0   \n⎢                                                                             \n⎢a₄  0   0   0   a₅  0   0   0   a₆    0    0    0    0    0    0    0   -b₀  \n⎢                                                                             \n⎢0   a₄  0   0   0   a₅  0   0    0   a₆    0    0    0    0    0    0   -b₁  \n⎢                                                                             \n⎢0   0   a₄  0   0   0   a₅  0    0    0   a₆    0    0    0    0    0   -b₂  \n⎢                                                                             \n⎢0   0   0   a₄  0   0   0   a₅   0    0    0   a₆    0    0    0    0   -b₃  \n⎢                                                                             \n⎢a₈  0   0   0   a₉  0   0   0   a₁₀   0    0    0    0    0    0    0    0   \n⎢                                                                             \n⎢0   a₈  0   0   0   a₉  0   0    0   a₁₀   0    0    0    0    0    0    0   \n⎢                                                                             \n⎢0   0   a₈  0   0   0   a₉  0    0    0   a₁₀   0    0    0    0    0    0   \n⎢                                                                             \n⎣0   0   0   a₈  0   0   0   a₉   0    0    0   a₁₀   0    0    0    0    0   \n\n 0    0    0    0    0    0    0 ⎤\n                                 ⎥\n 0    0    0    0    0    0    0 ⎥\n                                 ⎥\n 0    0    0    0    0    0    0 ⎥\n                                 ⎥\n 0    0    0    0    0    0    0 ⎥\n                                 ⎥\n-b₄  -b₈   0    0    0    0    0 ⎥\n                                 ⎥\n-b₅  -b₉   0    0    0    0    0 ⎥\n                                 ⎥\n-b₆  -b₁₀  0    0    0    0    0 ⎥\n                                 ⎥\n-b₇  -b₁₁  -1   0    0    0    0 ⎥\n                                 ⎥\n 0    0    0   -b₀  -b₄  -b₈   0 ⎥\n                                 ⎥\n 0    0    0   -b₁  -b₅  -b₉   0 ⎥\n                                 ⎥\n 0    0    0   -b₂  -b₆  -b₁₀  0 ⎥\n                                 ⎥\n 0    0    0   -b₃  -b₇  -b₁₁  -1⎦",
      "text/latex": "$\\displaystyle \\left[\\begin{array}{cccccccccccccccccccccccc}a_{0} & 0 & 0 & 0 & a_{1} & 0 & 0 & 0 & a_{2} & 0 & 0 & 0 & - b_{0} & - b_{4} & - b_{8} & 0 & 0 & 0 & 0 & 0 & 0 & 0 & 0 & 0\\\\0 & a_{0} & 0 & 0 & 0 & a_{1} & 0 & 0 & 0 & a_{2} & 0 & 0 & - b_{1} & - b_{5} & - b_{9} & 0 & 0 & 0 & 0 & 0 & 0 & 0 & 0 & 0\\\\0 & 0 & a_{0} & 0 & 0 & 0 & a_{1} & 0 & 0 & 0 & a_{2} & 0 & - b_{2} & - b_{6} & - b_{10} & 0 & 0 & 0 & 0 & 0 & 0 & 0 & 0 & 0\\\\0 & 0 & 0 & a_{0} & 0 & 0 & 0 & a_{1} & 0 & 0 & 0 & a_{2} & - b_{3} & - b_{7} & - b_{11} & -1 & 0 & 0 & 0 & 0 & 0 & 0 & 0 & 0\\\\a_{4} & 0 & 0 & 0 & a_{5} & 0 & 0 & 0 & a_{6} & 0 & 0 & 0 & 0 & 0 & 0 & 0 & - b_{0} & - b_{4} & - b_{8} & 0 & 0 & 0 & 0 & 0\\\\0 & a_{4} & 0 & 0 & 0 & a_{5} & 0 & 0 & 0 & a_{6} & 0 & 0 & 0 & 0 & 0 & 0 & - b_{1} & - b_{5} & - b_{9} & 0 & 0 & 0 & 0 & 0\\\\0 & 0 & a_{4} & 0 & 0 & 0 & a_{5} & 0 & 0 & 0 & a_{6} & 0 & 0 & 0 & 0 & 0 & - b_{2} & - b_{6} & - b_{10} & 0 & 0 & 0 & 0 & 0\\\\0 & 0 & 0 & a_{4} & 0 & 0 & 0 & a_{5} & 0 & 0 & 0 & a_{6} & 0 & 0 & 0 & 0 & - b_{3} & - b_{7} & - b_{11} & -1 & 0 & 0 & 0 & 0\\\\a_{8} & 0 & 0 & 0 & a_{9} & 0 & 0 & 0 & a_{10} & 0 & 0 & 0 & 0 & 0 & 0 & 0 & 0 & 0 & 0 & 0 & - b_{0} & - b_{4} & - b_{8} & 0\\\\0 & a_{8} & 0 & 0 & 0 & a_{9} & 0 & 0 & 0 & a_{10} & 0 & 0 & 0 & 0 & 0 & 0 & 0 & 0 & 0 & 0 & - b_{1} & - b_{5} & - b_{9} & 0\\\\0 & 0 & a_{8} & 0 & 0 & 0 & a_{9} & 0 & 0 & 0 & a_{10} & 0 & 0 & 0 & 0 & 0 & 0 & 0 & 0 & 0 & - b_{2} & - b_{6} & - b_{10} & 0\\\\0 & 0 & 0 & a_{8} & 0 & 0 & 0 & a_{9} & 0 & 0 & 0 & a_{10} & 0 & 0 & 0 & 0 & 0 & 0 & 0 & 0 & - b_{3} & - b_{7} & - b_{11} & -1\\end{array}\\right]$"
     },
     "metadata": {},
     "output_type": "display_data"
    },
    {
     "data": {
      "text/plain": "'Rank A:'"
     },
     "metadata": {},
     "output_type": "display_data"
    },
    {
     "data": {
      "text/plain": "12",
      "image/png": "[encoded data removed]",
      "text/latex": "$\\displaystyle 12$"
     },
     "metadata": {},
     "output_type": "display_data"
    },
    {
     "data": {
      "text/plain": "'b:'"
     },
     "metadata": {},
     "output_type": "display_data"
    },
    {
     "data": {
      "text/plain": "⎡ 0  ⎤\n⎢    ⎥\n⎢ 0  ⎥\n⎢    ⎥\n⎢ 0  ⎥\n⎢    ⎥\n⎢-a₃ ⎥\n⎢    ⎥\n⎢ 0  ⎥\n⎢    ⎥\n⎢ 0  ⎥\n⎢    ⎥\n⎢ 0  ⎥\n⎢    ⎥\n⎢-a₇ ⎥\n⎢    ⎥\n⎢ 0  ⎥\n⎢    ⎥\n⎢ 0  ⎥\n⎢    ⎥\n⎢ 0  ⎥\n⎢    ⎥\n⎣-a₁₁⎦",
      "text/latex": "$\\displaystyle \\left[\\begin{matrix}0\\\\0\\\\0\\\\- a_{3}\\\\0\\\\0\\\\0\\\\- a_{7}\\\\0\\\\0\\\\0\\\\- a_{11}\\end{matrix}\\right]$"
     },
     "metadata": {},
     "output_type": "display_data"
    }
   ],
   "source": [
    "mlA = sm.Matrix(lA[:-4, :])\n",
    "mlb = sm.Matrix(lb[:-4])\n",
    "display('Minimal Linear Equation: ', 'A:', mlA, 'Rank A:', mlA.rank(), 'b:', mlb)"
   ],
   "metadata": {
    "collapsed": false,
    "ExecuteTime": {
     "end_time": "2023-12-03T02:57:42.426236391Z",
     "start_time": "2023-12-03T02:57:41.220441462Z"
    }
   },
   "id": "a72e2e0559aba0af"
  },
  {
   "cell_type": "code",
   "execution_count": 120,
   "outputs": [
    {
     "data": {
      "text/plain": "⎡a₀  0   0   0   a₁  0   0   0   a₂    0    0    0   -b₀  -b₄  -b₈   0    0   \n⎢                                                                             \n⎢0   a₀  0   0   0   a₁  0   0    0   a₂    0    0   -b₁  -b₅  -b₉   0    0   \n⎢                                                                             \n⎢0   0   a₀  0   0   0   a₁  0    0    0   a₂    0   -b₂  -b₆  -b₁₀  0    0   \n⎢                                                                             \n⎢0   0   0   a₀  0   0   0   a₁   0    0    0   a₂   -b₃  -b₇  -b₁₁  -1   0   \n⎢                                                                             \n⎢a₄  0   0   0   a₅  0   0   0   a₆    0    0    0    0    0    0    0   -b₀  \n⎢                                                                             \n⎢0   a₄  0   0   0   a₅  0   0    0   a₆    0    0    0    0    0    0   -b₁  \n⎢                                                                             \n⎢0   0   a₄  0   0   0   a₅  0    0    0   a₆    0    0    0    0    0   -b₂  \n⎢                                                                             \n⎢0   0   0   a₄  0   0   0   a₅   0    0    0   a₆    0    0    0    0   -b₃  \n⎢                                                                             \n⎢a₈  0   0   0   a₉  0   0   0   a₁₀   0    0    0    0    0    0    0    0   \n⎢                                                                             \n⎢0   a₈  0   0   0   a₉  0   0    0   a₁₀   0    0    0    0    0    0    0   \n⎢                                                                             \n⎢0   0   a₈  0   0   0   a₉  0    0    0   a₁₀   0    0    0    0    0    0   \n⎢                                                                             \n⎣0   0   0   a₈  0   0   0   a₉   0    0    0   a₁₀   0    0    0    0    0   \n\n 0    0    0    0    0    0    0 ⎤\n                                 ⎥\n 0    0    0    0    0    0    0 ⎥\n                                 ⎥\n 0    0    0    0    0    0    0 ⎥\n                                 ⎥\n 0    0    0    0    0    0    0 ⎥\n                                 ⎥\n-b₄  -b₈   0    0    0    0    0 ⎥\n                                 ⎥\n-b₅  -b₉   0    0    0    0    0 ⎥\n                                 ⎥\n-b₆  -b₁₀  0    0    0    0    0 ⎥\n                                 ⎥\n-b₇  -b₁₁  -1   0    0    0    0 ⎥\n                                 ⎥\n 0    0    0   -b₀  -b₄  -b₈   0 ⎥\n                                 ⎥\n 0    0    0   -b₁  -b₅  -b₉   0 ⎥\n                                 ⎥\n 0    0    0   -b₂  -b₆  -b₁₀  0 ⎥\n                                 ⎥\n 0    0    0   -b₃  -b₇  -b₁₁  -1⎦",
      "text/latex": "$\\displaystyle \\left[\\begin{array}{cccccccccccccccccccccccc}a_{0} & 0 & 0 & 0 & a_{1} & 0 & 0 & 0 & a_{2} & 0 & 0 & 0 & - b_{0} & - b_{4} & - b_{8} & 0 & 0 & 0 & 0 & 0 & 0 & 0 & 0 & 0\\\\0 & a_{0} & 0 & 0 & 0 & a_{1} & 0 & 0 & 0 & a_{2} & 0 & 0 & - b_{1} & - b_{5} & - b_{9} & 0 & 0 & 0 & 0 & 0 & 0 & 0 & 0 & 0\\\\0 & 0 & a_{0} & 0 & 0 & 0 & a_{1} & 0 & 0 & 0 & a_{2} & 0 & - b_{2} & - b_{6} & - b_{10} & 0 & 0 & 0 & 0 & 0 & 0 & 0 & 0 & 0\\\\0 & 0 & 0 & a_{0} & 0 & 0 & 0 & a_{1} & 0 & 0 & 0 & a_{2} & - b_{3} & - b_{7} & - b_{11} & -1 & 0 & 0 & 0 & 0 & 0 & 0 & 0 & 0\\\\a_{4} & 0 & 0 & 0 & a_{5} & 0 & 0 & 0 & a_{6} & 0 & 0 & 0 & 0 & 0 & 0 & 0 & - b_{0} & - b_{4} & - b_{8} & 0 & 0 & 0 & 0 & 0\\\\0 & a_{4} & 0 & 0 & 0 & a_{5} & 0 & 0 & 0 & a_{6} & 0 & 0 & 0 & 0 & 0 & 0 & - b_{1} & - b_{5} & - b_{9} & 0 & 0 & 0 & 0 & 0\\\\0 & 0 & a_{4} & 0 & 0 & 0 & a_{5} & 0 & 0 & 0 & a_{6} & 0 & 0 & 0 & 0 & 0 & - b_{2} & - b_{6} & - b_{10} & 0 & 0 & 0 & 0 & 0\\\\0 & 0 & 0 & a_{4} & 0 & 0 & 0 & a_{5} & 0 & 0 & 0 & a_{6} & 0 & 0 & 0 & 0 & - b_{3} & - b_{7} & - b_{11} & -1 & 0 & 0 & 0 & 0\\\\a_{8} & 0 & 0 & 0 & a_{9} & 0 & 0 & 0 & a_{10} & 0 & 0 & 0 & 0 & 0 & 0 & 0 & 0 & 0 & 0 & 0 & - b_{0} & - b_{4} & - b_{8} & 0\\\\0 & a_{8} & 0 & 0 & 0 & a_{9} & 0 & 0 & 0 & a_{10} & 0 & 0 & 0 & 0 & 0 & 0 & 0 & 0 & 0 & 0 & - b_{1} & - b_{5} & - b_{9} & 0\\\\0 & 0 & a_{8} & 0 & 0 & 0 & a_{9} & 0 & 0 & 0 & a_{10} & 0 & 0 & 0 & 0 & 0 & 0 & 0 & 0 & 0 & - b_{2} & - b_{6} & - b_{10} & 0\\\\0 & 0 & 0 & a_{8} & 0 & 0 & 0 & a_{9} & 0 & 0 & 0 & a_{10} & 0 & 0 & 0 & 0 & 0 & 0 & 0 & 0 & - b_{3} & - b_{7} & - b_{11} & -1\\end{array}\\right]$"
     },
     "metadata": {},
     "output_type": "display_data"
    },
    {
     "data": {
      "text/plain": "⎡ 0  ⎤\n⎢    ⎥\n⎢ 0  ⎥\n⎢    ⎥\n⎢ 0  ⎥\n⎢    ⎥\n⎢-a₃ ⎥\n⎢    ⎥\n⎢ 0  ⎥\n⎢    ⎥\n⎢ 0  ⎥\n⎢    ⎥\n⎢ 0  ⎥\n⎢    ⎥\n⎢-a₇ ⎥\n⎢    ⎥\n⎢ 0  ⎥\n⎢    ⎥\n⎢ 0  ⎥\n⎢    ⎥\n⎢ 0  ⎥\n⎢    ⎥\n⎣-a₁₁⎦",
      "text/latex": "$\\displaystyle \\left[\\begin{matrix}0\\\\0\\\\0\\\\- a_{3}\\\\0\\\\0\\\\0\\\\- a_{7}\\\\0\\\\0\\\\0\\\\- a_{11}\\end{matrix}\\right]$"
     },
     "metadata": {},
     "output_type": "display_data"
    }
   ],
   "source": [
    "lhs = sm.kronecker_product(A[:3, :3], sm.eye(4)).row_join(sm.kronecker_product(-sm.eye(3), B.T))\n",
    "rhs = sm.kronecker_product(A[:3, -1], -sm.Matrix([0, 0, 0, 1]))\n",
    "\n",
    "display(lhs)\n",
    "display(rhs)\n"
   ],
   "metadata": {
    "collapsed": false,
    "ExecuteTime": {
     "end_time": "2023-12-03T02:57:46.831340816Z",
     "start_time": "2023-12-03T02:57:46.767463311Z"
    }
   },
   "id": "fbb3b675f4031511"
  },
  {
   "cell_type": "code",
   "execution_count": 122,
   "outputs": [
    {
     "data": {
      "text/plain": "True"
     },
     "execution_count": 122,
     "metadata": {},
     "output_type": "execute_result"
    }
   ],
   "source": [
    "mlb == rhs"
   ],
   "metadata": {
    "collapsed": false,
    "ExecuteTime": {
     "end_time": "2023-12-03T02:57:57.651615185Z",
     "start_time": "2023-12-03T02:57:57.642045748Z"
    }
   },
   "id": "5be93b707ca5676"
  },
  {
   "cell_type": "code",
   "execution_count": 210,
   "outputs": [
    {
     "name": "stdout",
     "output_type": "stream",
     "text": [
      "[[ 0.69113022  0.56454613 -0.45125014  3.24272297]\n",
      " [-0.20661948  0.75264941  0.62516178  3.25505801]\n",
      " [ 0.69256581 -0.33883113  0.63682498 -3.33834208]\n",
      " [ 0.          0.          0.          1.        ]] [[ 0.69113022  0.56454613 -0.45125014  0.70829547]\n",
      " [ 0.20661948 -0.75264941 -0.62516178 -3.43365278]\n",
      " [-0.69256581  0.33883113 -0.63682498 11.40727838]\n",
      " [ 0.          0.          0.          1.        ]]\n",
      "[[ 0.69806346  0.32132623 -0.63988817 -1.50092218]\n",
      " [-0.63314047  0.69437718 -0.34201386 -3.50062775]\n",
      " [ 0.33442572  0.64388647  0.68816397 -2.79888244]\n",
      " [ 0.          0.          0.          1.        ]] [[ 0.69806346  0.32132623 -0.63988817 -5.07178551]\n",
      " [ 0.63314047 -0.69437718  0.34201386  6.76660804]\n",
      " [-0.33442572 -0.64388647 -0.68816397  9.11527181]\n",
      " [ 0.          0.          0.          1.        ]]\n",
      "[[ 0.54261197 -0.41166854 -0.73218936 -3.50750015]\n",
      " [ 0.46705637  0.8723647  -0.14435436  2.66550306]\n",
      " [ 0.6981623  -0.2636453   0.66562794 -3.57134265]\n",
      " [ 0.          0.          0.          1.        ]] [[ 0.54261197 -0.41166854 -0.73218936 -8.9842662 ]\n",
      " [-0.46705637 -0.8723647   0.14435436 -1.45010634]\n",
      " [-0.6981623   0.2636453  -0.66562794 11.39548616]\n",
      " [ 0.          0.          0.          1.        ]]\n",
      "[[ 0.55606685 -0.73376929  0.39034894 -3.08991302]\n",
      " [ 0.79708212  0.60387083 -0.00033066 -2.10758801]\n",
      " [-0.23547771  0.31132403  0.92066693  4.77483963]\n",
      " [ 0.          0.          0.          1.        ]] [[ 0.55606685 -0.73376929  0.39034894 -5.82158641]\n",
      " [-0.79708212 -0.60387083  0.00033066  3.10978348]\n",
      " [ 0.23547771 -0.31132403 -0.92066693  2.08367972]\n",
      " [ 0.          0.          0.          1.        ]]\n",
      "[[ 0.78116834 -0.49952484  0.37450095  1.30219849]\n",
      " [ 0.10828924  0.69917204  0.70670496  3.40393169]\n",
      " [-0.61485727 -0.51150112  0.60026423  4.14984898]\n",
      " [ 0.          0.          0.          1.        ]] [[ 0.78116834 -0.49952484  0.37450095 -0.79211391]\n",
      " [-0.10828924 -0.69917204 -0.70670496 -4.03891407]\n",
      " [ 0.61485727  0.51150112 -0.60026423  5.67791753]\n",
      " [ 0.          0.          0.          1.        ]]\n",
      "[[ 0.80065504  0.22899576  0.55363567  3.00059785]\n",
      " [-0.55218622  0.64060092  0.5335924  -1.84163089]\n",
      " [-0.23246912 -0.73293343  0.63934866  1.54574904]\n",
      " [ 0.          0.          0.          1.        ]] [[ 0.80065504  0.22899576  0.55363567  2.91733305]\n",
      " [ 0.55218622 -0.64060092 -0.5335924   2.52141313]\n",
      " [ 0.23246912  0.73293343 -0.63934866  8.23938867]\n",
      " [ 0.          0.          0.          1.        ]]\n",
      "[[ 0.649833   -0.75501523 -0.08757329 -3.05094808]\n",
      " [ 0.61116126  0.58753556 -0.53036203 -3.46103071]\n",
      " [ 0.45188383  0.29112534  0.84323605 -1.37269527]\n",
      " [ 0.          0.          0.          1.        ]] [[ 0.649833   -0.75501523 -0.08757329 -7.17143109]\n",
      " [-0.61116126 -0.58753556  0.53036203  6.27457442]\n",
      " [-0.45188383 -0.29112534 -0.84323605  7.80973852]\n",
      " [ 0.          0.          0.          1.        ]]\n",
      "[[ 0.88330275  0.46303383  0.07332069 -0.5795328 ]\n",
      " [-0.35096795  0.54945591  0.75823459 -1.18201787]\n",
      " [ 0.31080178 -0.69548391  0.64784595 -2.97995662]\n",
      " [ 0.          0.          0.          1.        ]] [[ 0.88330275  0.46303383  0.07332069 -1.54646964]\n",
      " [ 0.35096795 -0.54945591 -0.75823459  1.15216105]\n",
      " [-0.31080178  0.69548391 -0.64784595 12.11015813]\n",
      " [ 0.          0.          0.          1.        ]]\n",
      "[[ 0.61523167 -0.28219015  0.73611053  2.45951553]\n",
      " [ 0.56565622  0.80839817 -0.16286633 -1.01723123]\n",
      " [-0.54911113  0.51658602  0.65697477  1.35638   ]\n",
      " [ 0.          0.          0.          1.        ]] [[ 0.61523167 -0.28219015  0.73611053  1.71585411]\n",
      " [-0.56565622 -0.80839817  0.16286633  2.3241389 ]\n",
      " [ 0.54911113 -0.51658602 -0.65697477  6.19238567]\n",
      " [ 0.          0.          0.          1.        ]]\n",
      "[[ 0.68131902  0.40670373 -0.60860206 -4.46247664]\n",
      " [-0.67588612  0.66876076 -0.30973698 -2.08286024]\n",
      " [ 0.28103799  0.62237538  0.73052483  0.58882413]\n",
      " [ 0.          0.          0.          1.        ]] [[ 0.68131902  0.40670373 -0.60860206 -7.78364122]\n",
      " [ 0.67588612 -0.66876076  0.30973698  5.35032034]\n",
      " [-0.28103799 -0.62237538 -0.73052483  5.68473606]\n",
      " [ 0.          0.          0.          1.        ]]\n"
     ]
    }
   ],
   "source": [
    "# Creating dummy dataset\n",
    "gtAs = []\n",
    "gtBs = []\n",
    "gtX = np.eye(4, dtype=float)\n",
    "gtX[:3, -1] = [1, 2, 3]\n",
    "\n",
    "gtZ = np.eye(4, dtype=float)\n",
    "gtZ[:3, -1] = [3, 3, 10]\n",
    "gtZ[:3, 2] *= -1   # z-Looking down\n",
    "gtZ[:3, 1] *= -1   # Looking down\n",
    "\n",
    "numsamples = 10\n",
    "\n",
    "for i in range(numsamples):\n",
    "    r = 2 * (np.random.rand(3) - 0.5) * 2 * np.pi\n",
    "    r /= np.linalg.norm(r)\n",
    "    t = 2 * (np.random.rand(3) - 0.5) * 5\n",
    "    \n",
    "    T = np.eye(4)\n",
    "    T[:3, :3] = transform.Rotation.from_rotvec(r).as_matrix()\n",
    "    T[:3, -1] = t\n",
    "    \n",
    "    gtAs.append(T.copy())\n",
    "    \n",
    "    attachedObjectInStatic = np.dot(np.dot(np.linalg.inv(gtZ), T.copy()), gtX)\n",
    "    attachedObjectInStatic[:3, -1] += 2.0 * (np.random.rand(3) - 0.5) * 0.01\n",
    "    gtBs.append(attachedObjectInStatic)\n",
    "    \n",
    "    print(T, attachedObjectInStatic)\n"
   ],
   "metadata": {
    "collapsed": false,
    "ExecuteTime": {
     "end_time": "2023-12-03T06:42:13.341792592Z",
     "start_time": "2023-12-03T06:42:13.314255511Z"
    }
   },
   "id": "e5c1194679f2adc3"
  },
  {
   "cell_type": "code",
   "execution_count": 211,
   "outputs": [],
   "source": [
    "# Formulating least squares from dataset\n",
    "lhs = []\n",
    "rhs = []\n",
    "for i in range(numsamples):\n",
    "    lhs.append(\n",
    "        np.hstack([np.kron(gtAs[i][:3, :3], np.eye(4)), np.kron(-np.eye(3), gtBs[i].T)])\n",
    "    )\n",
    "    rhs.append(\n",
    "        np.kron(gtAs[i][:3, -1], [0, 0, 0, -1])\n",
    "    )\n",
    "    \n",
    "lhs = np.vstack(lhs)\n",
    "rhs = np.hstack(rhs)"
   ],
   "metadata": {
    "collapsed": false,
    "ExecuteTime": {
     "end_time": "2023-12-03T06:42:16.150388820Z",
     "start_time": "2023-12-03T06:42:16.136866318Z"
    }
   },
   "id": "2df5d6fe530c9d44"
  },
  {
   "cell_type": "code",
   "execution_count": 212,
   "outputs": [
    {
     "name": "stdout",
     "output_type": "stream",
     "text": [
      "SOLUTION:\n",
      "[[ 1.00020519  0.00001716 -0.00019669  0.99660519]\n",
      " [ 0.00000039  0.9998454   0.00035782  2.00296221]\n",
      " [ 0.00069163 -0.00076495  1.00043855  2.99848758]\n",
      " [ 0.          0.          0.          1.        ]]\n",
      "[[ 1.00053501 -0.00028577  0.00065079  2.99186155]\n",
      " [ 0.00040612 -0.99887778 -0.00045267  3.00411158]\n",
      " [ 0.00080244  0.00116703 -1.00107635 10.00563734]\n",
      " [ 0.          0.          0.          1.        ]]\n",
      "GT:\n",
      "[[1. 0. 0. 1.]\n",
      " [0. 1. 0. 2.]\n",
      " [0. 0. 1. 3.]\n",
      " [0. 0. 0. 1.]]\n",
      "[[ 1. -0. -0.  3.]\n",
      " [ 0. -1. -0.  3.]\n",
      " [ 0. -0. -1. 10.]\n",
      " [ 0.  0.  0.  1.]]\n"
     ]
    }
   ],
   "source": [
    "solution, loss, iterations, eigenvalues = np.linalg.lstsq(lhs, rhs, rcond=None)\n",
    "\n",
    "x = np.eye(4)\n",
    "x[:3, :] = solution[:12].reshape(3, 4)\n",
    "z = np.eye(4)\n",
    "z[:3, :] = solution[12:].reshape(3, 4)\n",
    "\n",
    "print(\"SOLUTION:\")\n",
    "print(x)\n",
    "print(z)\n",
    "\n",
    "print(\"GT:\")\n",
    "print(gtX)\n",
    "print(gtZ)"
   ],
   "metadata": {
    "collapsed": false,
    "ExecuteTime": {
     "end_time": "2023-12-03T06:42:17.516327316Z",
     "start_time": "2023-12-03T06:42:17.475371637Z"
    }
   },
   "id": "e972ca95bd99f5d6"
  },
  {
   "cell_type": "code",
   "execution_count": 213,
   "outputs": [
    {
     "data": {
      "text/plain": "1.0004895447965547",
      "image/png": "[encoded data removed]",
      "text/latex": "$\\displaystyle 1.00048954479655$"
     },
     "metadata": {},
     "output_type": "display_data"
    },
    {
     "data": {
      "text/plain": "1.0004888459087526",
      "image/png": "[encoded data removed]",
      "text/latex": "$\\displaystyle 1.00048884590875$"
     },
     "metadata": {},
     "output_type": "display_data"
    }
   ],
   "source": [
    "display(np.linalg.det(x))\n",
    "display(np.linalg.det(z))\n"
   ],
   "metadata": {
    "collapsed": false,
    "ExecuteTime": {
     "end_time": "2023-12-03T06:42:34.814755579Z",
     "start_time": "2023-12-03T06:42:34.757127058Z"
    }
   },
   "id": "6592bf2a2a0dba7c"
  }
 ],
 "metadata": {
  "kernelspec": {
   "display_name": "Python 3",
   "language": "python",
   "name": "python3"
  },
  "language_info": {
   "codemirror_mode": {
    "name": "ipython",
    "version": 2
   },
   "file_extension": ".py",
   "mimetype": "text/x-python",
   "name": "python",
   "nbconvert_exporter": "python",
   "pygments_lexer": "ipython2",
   "version": "2.7.6"
  }
 },
 "nbformat": 4,
 "nbformat_minor": 5
}
